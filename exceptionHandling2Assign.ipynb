{
 "cells": [
  {
   "cell_type": "markdown",
   "id": "7081fec7-beee-4a50-82ac-1f8d93317825",
   "metadata": {},
   "source": [
    "#QUESTION 1\n",
    "\n",
    "When creating a custom exception in Python, it is recommended to inherit from the built-in Exception class or one of its subclasses. Here's an explanation of why it is necessary to use the Exception class as the base class for custom exceptions:\n",
    "\n",
    "-Consistency and compatibility: Inheriting from the Exception class ensures that your custom exception follows the established hierarchy of Python's exception classes. It aligns your custom exception with the existing exception types and conventions used in the language. This consistency makes it easier for other developers to understand and work with your code.\n",
    "\n",
    "-Error handling and catching: By inheriting from Exception, your custom exception can be caught using a catch-all except block that handles general exceptions (except Exception:). This allows you to handle your custom exception along with other built-in exceptions in a unified manner, improving the overall error handling in your program.\n"
   ]
  },
  {
   "cell_type": "code",
   "execution_count": 2,
   "id": "fe632443-a356-4056-9e79-0c90a2df0b98",
   "metadata": {},
   "outputs": [
    {
     "name": "stdout",
     "output_type": "stream",
     "text": [
      "The division result is: 2.0\n",
      "This block is always executed, regardless of exceptions.\n",
      "Error: Division by zero is not allowed.\n",
      "This block is always executed, regardless of exceptions.\n"
     ]
    }
   ],
   "source": [
    "# Question 2\n",
    "\n",
    "def divide_numbers(a, b):\n",
    "    try:\n",
    "        result = a / b\n",
    "    except ZeroDivisionError:\n",
    "        print(\"Error: Division by zero is not allowed.\")\n",
    "    else:\n",
    "        print(\"The division result is:\", result)\n",
    "    finally:\n",
    "        print(\"This block is always executed, regardless of exceptions.\")\n",
    "# Calling the function with valid arguments\n",
    "divide_numbers(10, 5)\n",
    "\n",
    "# Calling the function with invalid arguments\n",
    "divide_numbers(10, 0)"
   ]
  },
  {
   "cell_type": "markdown",
   "id": "5d4fa7fe-33c3-41d0-8d8d-e5409785bf0e",
   "metadata": {},
   "source": [
    "# QUESTION 3\n",
    "The ArithmeticError class is a built-in exception class in Python that serves as the base class for various arithmetic-related exceptions. It provides a common base for exceptions that occur during arithmetic operations. Some specific exceptions derived from ArithmeticError include ZeroDivisionError, OverflowError, and FloatingPointError.\n",
    "\n",
    "Let's explain two of the exceptions derived from ArithmeticError with examples:\n",
    "\n",
    "ZeroDivisionError: This exception is raised when division or modulo operation is performed with a divisor of zero."
   ]
  },
  {
   "cell_type": "code",
   "execution_count": 3,
   "id": "13678b8d-b99b-4457-b303-60a34fb688eb",
   "metadata": {},
   "outputs": [
    {
     "name": "stdout",
     "output_type": "stream",
     "text": [
      "Result: 5.0\n",
      "Error: Division by zero is not allowed.\n"
     ]
    }
   ],
   "source": [
    "#Example\n",
    "def divide_numbers(a, b):\n",
    "    try:\n",
    "        result = a / b\n",
    "        print(\"Result:\", result)\n",
    "    except ZeroDivisionError:\n",
    "        print(\"Error: Division by zero is not allowed.\")\n",
    "\n",
    "# Example usage\n",
    "divide_numbers(10, 2)  # Result: 5.0\n",
    "divide_numbers(10, 0)  # Error: Division by zero is not allowed.\n"
   ]
  },
  {
   "cell_type": "markdown",
   "id": "0174d98d-b574-4bb3-8a33-9f2be0394bf0",
   "metadata": {},
   "source": [
    "OverflowError: This exception is raised when an arithmetic operation exceeds the maximum limit of a numeric type, resulting in an overflow."
   ]
  },
  {
   "cell_type": "code",
   "execution_count": 4,
   "id": "59575df9-b8ee-4393-b0d7-705743b8dd98",
   "metadata": {},
   "outputs": [
    {
     "name": "stdout",
     "output_type": "stream",
     "text": [
      "Factorial: 3628800\n",
      "Factorial: 402387260077093773543702433923003985719374864210714632543799910429938512398629020592044208486969404800479988610197196058631666872994808558901323829669944590997424504087073759918823627727188732519779505950995276120874975462497043601418278094646496291056393887437886487337119181045825783647849977012476632889835955735432513185323958463075557409114262417474349347553428646576611667797396668820291207379143853719588249808126867838374559731746136085379534524221586593201928090878297308431392844403281231558611036976801357304216168747609675871348312025478589320767169132448426236131412508780208000261683151027341827977704784635868170164365024153691398281264810213092761244896359928705114964975419909342221566832572080821333186116811553615836546984046708975602900950537616475847728421889679646244945160765353408198901385442487984959953319101723355556602139450399736280750137837615307127761926849034352625200015888535147331611702103968175921510907788019393178114194545257223865541461062892187960223838971476088506276862967146674697562911234082439208160153780889893964518263243671616762179168909779911903754031274622289988005195444414282012187361745992642956581746628302955570299024324153181617210465832036786906117260158783520751516284225540265170483304226143974286933061690897968482590125458327168226458066526769958652682272807075781391858178889652208164348344825993266043367660176999612831860788386150279465955131156552036093988180612138558600301435694527224206344631797460594682573103790084024432438465657245014402821885252470935190620929023136493273497565513958720559654228749774011413346962715422845862377387538230483865688976461927383814900140767310446640259899490222221765904339901886018566526485061799702356193897017860040811889729918311021171229845901641921068884387121855646124960798722908519296819372388642614839657382291123125024186649353143970137428531926649875337218940694281434118520158014123344828015051399694290153483077644569099073152433278288269864602789864321139083506217095002597389863554277196742822248757586765752344220207573630569498825087968928162753848863396909959826280956121450994871701244516461260379029309120889086942028510640182154399457156805941872748998094254742173582401063677404595741785160829230135358081840096996372524230560855903700624271243416909004153690105933983835777939410970027753472000000000000000000000000000000000000000000000000000000000000000000000000000000000000000000000000000000000000000000000000000000000000000000000000000000000000000000000000000000000000000000000000000000000000000000000000000000000000000000000000000000000\n"
     ]
    }
   ],
   "source": [
    "#Example\n",
    "def calculate_factorial(n):\n",
    "    try:\n",
    "        factorial = 1\n",
    "        for i in range(1, n+1):\n",
    "            factorial *= i\n",
    "        print(\"Factorial:\", factorial)\n",
    "    except OverflowError:\n",
    "        print(\"Error: Result exceeds the maximum limit.\")\n",
    "\n",
    "# Example usage\n",
    "calculate_factorial(10)    # Factorial: 3628800\n",
    "calculate_factorial(1000)  # Error: Result exceeds the maximum limit.\n"
   ]
  },
  {
   "cell_type": "markdown",
   "id": "4ce93050-f2f8-43f6-8ccc-750dd5fdc86c",
   "metadata": {},
   "source": [
    "#QUESTION 4\n",
    "\n",
    "The LookupError class is a built-in exception class in Python that serves as the base class for exceptions related to lookup operations. It is a subclass of the Exception class and provides a common base for exceptions that occur during lookup operations such as indexing or searching for keys in data structures.\n",
    "\n",
    "Two commonly encountered exceptions derived from LookupError are KeyError and IndexError. Let's explain each of these exceptions with examples:\n",
    "\n",
    "KeyError: This exception is raised when a dictionary or other mapping type is accessed with a key that does not exist."
   ]
  },
  {
   "cell_type": "code",
   "execution_count": 5,
   "id": "648b6593-bd9e-4f6f-9dae-da43c68717c6",
   "metadata": {},
   "outputs": [
    {
     "name": "stdout",
     "output_type": "stream",
     "text": [
      "Error: Student name not found.\n"
     ]
    }
   ],
   "source": [
    "#Example\n",
    "student_grades = {\"Alice\": 90, \"Bob\": 85, \"Charlie\": 92}\n",
    "\n",
    "try:\n",
    "    print(student_grades[\"Dave\"])\n",
    "except KeyError:\n",
    "    print(\"Error: Student name not found.\")\n",
    "\n",
    "# Output: Error: Student name not found.\n",
    "\n"
   ]
  },
  {
   "cell_type": "markdown",
   "id": "dcf12d01-4133-41f3-b86d-959c9c1ba0e0",
   "metadata": {},
   "source": [
    "IndexError: This exception is raised when attempting to access a sequence (e.g., a list or tuple) with an index that is out of range."
   ]
  },
  {
   "cell_type": "code",
   "execution_count": 6,
   "id": "076cc5bc-f30a-4f20-bc7b-61c940b8a2e4",
   "metadata": {},
   "outputs": [
    {
     "name": "stdout",
     "output_type": "stream",
     "text": [
      "Error: Index out of range.\n"
     ]
    }
   ],
   "source": [
    "numbers = [1, 2, 3, 4, 5]\n",
    "\n",
    "try:\n",
    "    print(numbers[10])\n",
    "except IndexError:\n",
    "    print(\"Error: Index out of range.\")\n",
    "\n",
    "# Output: Error: Index out of range.\n"
   ]
  },
  {
   "cell_type": "markdown",
   "id": "a95e0a87-fe11-4204-b55b-becf238a34de",
   "metadata": {},
   "source": [
    "# QUESTION 5\n",
    "\n",
    "In Python, ImportError and ModuleNotFoundError are exceptions raised when there are issues related to importing and loading modules. Let's explain each of them:\n",
    "\n",
    "ImportError: This exception is raised when an imported module or module attribute cannot be found or accessed.\n",
    "Example:"
   ]
  },
  {
   "cell_type": "code",
   "execution_count": 7,
   "id": "d3518fe1-1b86-4b56-94ee-9c67d804346c",
   "metadata": {},
   "outputs": [
    {
     "name": "stdout",
     "output_type": "stream",
     "text": [
      "Error: Module not found or cannot be imported.\n"
     ]
    }
   ],
   "source": [
    "try:\n",
    "    import non_existent_module\n",
    "except ImportError:\n",
    "    print(\"Error: Module not found or cannot be imported.\")\n",
    "\n",
    "# Output: Error: Module not found or cannot be imported.\n"
   ]
  },
  {
   "cell_type": "markdown",
   "id": "192690fd-2a36-4071-bb47-f53f2a5574ba",
   "metadata": {},
   "source": [
    "ModuleNotFoundError: This exception is a subclass of ImportError and is raised when a module cannot be found during the import process.\n",
    "Example:"
   ]
  },
  {
   "cell_type": "code",
   "execution_count": 8,
   "id": "3cdde39c-1247-4a58-8ce1-798c83619714",
   "metadata": {},
   "outputs": [
    {
     "name": "stdout",
     "output_type": "stream",
     "text": [
      "Error: Module or package not found.\n"
     ]
    }
   ],
   "source": [
    "try:\n",
    "    from non_existent_package import some_module\n",
    "except ModuleNotFoundError:\n",
    "    print(\"Error: Module or package not found.\")\n",
    "\n",
    "# Output: Error: Module or package not found.\n"
   ]
  },
  {
   "cell_type": "markdown",
   "id": "42934d09-b047-43b8-8f17-f8ffff55a255",
   "metadata": {},
   "source": [
    "# QUESTION 6\n",
    "\n"
   ]
  }
 ],
 "metadata": {
  "kernelspec": {
   "display_name": "Python 3 (ipykernel)",
   "language": "python",
   "name": "python3"
  },
  "language_info": {
   "codemirror_mode": {
    "name": "ipython",
    "version": 3
   },
   "file_extension": ".py",
   "mimetype": "text/x-python",
   "name": "python",
   "nbconvert_exporter": "python",
   "pygments_lexer": "ipython3",
   "version": "3.10.8"
  }
 },
 "nbformat": 4,
 "nbformat_minor": 5
}
